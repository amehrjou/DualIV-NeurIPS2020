w{
 "cells": [
  {
   "cell_type": "code",
   "execution_count": 1,
   "metadata": {},
   "outputs": [],
   "source": [
    "## Adapting DeepGMM for demand experiment of KIV, DIV and DualIV\n",
    "\n",
    "import numpy as np\n",
    "import matplotlib.pyplot as plt\n",
    "from scipy.io import savemat\n",
    "%matplotlib inline\n",
    "\n",
    "import torch\n",
    "from scenarios.abstract_scenario import AbstractScenario\n",
    "from methods.demand_model_selection_method import DemandModelSelectionMethod\n",
    "\n",
    "import pdb\n",
    "\n",
    "import os"
   ]
  },
  {
   "cell_type": "code",
   "execution_count": 2,
   "metadata": {},
   "outputs": [],
   "source": [
    "import data_generator\n",
    "\n",
    "def datafunction(n, seed, rho, images=False, test=False):\n",
    "    return data_generator.demand(n=n, seed=(n+1)*seed, ypcor=rho, use_images=images, test=test)\n",
    "\n",
    "\n",
    "# Create Demand experiment\n",
    "class Demand(AbstractScenario):\n",
    "    def __init__(self):\n",
    "        AbstractScenario.__init__(self)\n",
    "        \n",
    "        \n",
    "    def generate_data(self, num_data, seed, rho):\n",
    "        context, instrument, treatment, outcome, g_true = datafunction(num_data, seed, rho)\n",
    "        x = np.concatenate([context, treatment], axis=1)\n",
    "        y = outcome\n",
    "        z = np.concatenate([context, instrument], axis=1)\n",
    "        return x, z, y, g_true(context, instrument, treatment), x"
   ]
  },
  {
   "cell_type": "code",
   "execution_count": 3,
   "metadata": {
    "scrolled": false
   },
   "outputs": [
    {
     "name": "stdout",
     "output_type": "stream",
     "text": [
      "test\n",
      "  x: ndarray (float64):  1000x9\n",
      "  z: ndarray (float64):  1000x9\n",
      "  y: ndarray (float64):  1000x1\n",
      "  g: ndarray (float64):  1000x1\n",
      "  w: ndarray (float64):  1000x9\n",
      "train\n",
      "  x: ndarray (float64):  25x9\n",
      "      min: 0.00 , max: 9.58\n",
      "  z: ndarray (float64):  25x9\n",
      "      min: -1.78 , max: 9.58\n",
      "  y: ndarray (float64):  25x1\n",
      "      min: -375.49 , max: -4.50\n",
      "  g: ndarray (float64):  25x1\n",
      "      min: -375.43 , max: -5.57\n",
      "  w: ndarray (float64):  25x9\n",
      "      min: 0.00 , max: 9.58\n",
      "dev\n",
      "  x: ndarray (float64):  25x9\n",
      "  z: ndarray (float64):  25x9\n",
      "  y: ndarray (float64):  25x1\n",
      "  g: ndarray (float64):  25x1\n",
      "  w: ndarray (float64):  25x9\n",
      "test\n",
      "  x: ndarray (float64):  1000x9\n",
      "  z: ndarray (float64):  1000x9\n",
      "  y: ndarray (float64):  1000x1\n",
      "  g: ndarray (float64):  1000x1\n",
      "  w: ndarray (float64):  1000x9\n",
      "train\n",
      "  x: ndarray (float64):  25x9\n",
      "      min: 0.00 , max: 9.74\n",
      "  z: ndarray (float64):  25x9\n",
      "      min: -2.07 , max: 9.74\n",
      "  y: ndarray (float64):  25x1\n",
      "      min: -495.24 , max: 7.24\n",
      "  g: ndarray (float64):  25x1\n",
      "      min: -495.06 , max: 6.46\n",
      "  w: ndarray (float64):  25x9\n",
      "      min: 0.00 , max: 9.74\n",
      "dev\n",
      "  x: ndarray (float64):  25x9\n",
      "  z: ndarray (float64):  25x9\n",
      "  y: ndarray (float64):  25x1\n",
      "  g: ndarray (float64):  25x1\n",
      "  w: ndarray (float64):  25x9\n"
     ]
    }
   ],
   "source": [
    "num_reps = 2\n",
    "num_test = 1000\n",
    "num_trains = [25]\n",
    "rho_vec = [0.10]\n",
    "\n",
    "results_col = {}\n",
    "\n",
    "# Running multiple times\n",
    "for i, rho in enumerate(rho_vec):  \n",
    "    results = np.zeros((len(num_trains), num_reps))\n",
    "    for j, num_train in enumerate(num_trains):   \n",
    "        num_dev = num_train    \n",
    "        for rep in range(num_reps):\n",
    "             \n",
    "            # Setup\n",
    "            scenario = Demand()\n",
    "#             scenario.setup(num_train, num_dev=num_dev, num_test=num_test, seed=rep+i+j, rho=rho)\n",
    "            scenario.setup_c(num_train, num_dev=num_dev, num_test=num_test, seed=rep, rho=rho)\n",
    "            scenario.info()\n",
    "            scenario.to_tensor()\n",
    "            train = scenario.get_dataset(\"train\")\n",
    "            dev = scenario.get_dataset(\"dev\")\n",
    "            test = scenario.get_dataset(\"test\")\n",
    "\n",
    "#             # Set random seed\n",
    "#             seed = rep\n",
    "#             torch.manual_seed(seed)\n",
    "#             np.random.seed(seed)\n",
    "            \n",
    "# #             # Save data\n",
    "# #             train_ar = train.for_export()\n",
    "# #             dev_ar = dev.for_export()\n",
    "# #             data = {'train':{}, 'test':test.for_export()}\n",
    "# #             for k in train_ar.keys():\n",
    "# #                 data['train'][k] = np.concatenate([train_ar[k], dev_ar[k]])\n",
    "# #             savemat('data/demand/train_{}_seed_{}_rho_{}.mat'.format(num_train * 2, rep, rho), data)\n",
    "\n",
    "#             scenariotrain = scenario.get_dataset\n",
    "            \n",
    "#             method = DemandModelSelectionMethod(f_lr_mult=5.0, enable_cuda=torch.cuda.is_available())\n",
    "#             method.fit(train.x, train.z, train.y, dev.x, dev.z, dev.y,\n",
    "#                        g_dev=dev.g, verbose=True)\n",
    "#             g_pred_test = method.predict(test.x)\n",
    "#             mse = float(((g_pred_test - test.g) ** 2).mean())\n",
    "\n",
    "#             print(\"---------------\")\n",
    "#             print(\"Finished {}\".format(rho, num_train))\n",
    "#             print(\"Test MSE:\", np.log10(mse))\n",
    "#             print(\"\")\n",
    "        \n",
    "#             results[j, rep] = np.log10(mse)\n",
    "            \n",
    "#     results_col[rho] = results\n",
    "    \n",
    "#     fig, ax = plt.subplots()\n",
    "#     ax.boxplot(results.T);\n",
    "#     ax.set_xlabel(\"Sample size\")\n",
    "#     ax.set_ylabel(\"$\\log_{10}(MSE)$\",usetex=True)\n",
    "#     ax.set_title(\"DeepGMM ($\\\\rho=%.2f$)\" % rho,usetex=True);\n",
    "#     ax.set_xticklabels(num_trains);\n",
    "#     plt.tight_layout()\n",
    "#     fig.savefig(\"deepgmm_rho_%.2f.pdf\" % rho, dpi=100)\n",
    "    \n",
    "# np.savez(\"deepgmm_results.npz\", results_col)"
   ]
  },
  {
   "cell_type": "code",
   "execution_count": 4,
   "metadata": {},
   "outputs": [
    {
     "name": "stderr",
     "output_type": "stream",
     "text": [
      "ERROR:root:No traceback has been produced, nothing to debug.\n"
     ]
    }
   ],
   "source": [
    "%debug"
   ]
  },
  {
   "cell_type": "code",
   "execution_count": 5,
   "metadata": {},
   "outputs": [],
   "source": [
    "train_ar = train.for_export()\n",
    "dev_ar = dev.for_export()\n",
    "data = {'train':{}, 'test':test.for_export()}\n",
    "for k in train_ar.keys():\n",
    "    data['train'][k] = np.concatenate([train_ar[k], dev_ar[k]])"
   ]
  },
  {
   "cell_type": "code",
   "execution_count": 6,
   "metadata": {},
   "outputs": [
    {
     "data": {
      "text/plain": [
       "(50, 9)"
      ]
     },
     "execution_count": 6,
     "metadata": {},
     "output_type": "execute_result"
    }
   ],
   "source": [
    "data['train']['x'].shape"
   ]
  },
  {
   "cell_type": "raw",
   "metadata": {},
   "source": [
    "train\n",
    "  x: ndarray (float64):  25x9\n",
    "      min: -1.53 , max: 9.79\n",
    "  z: ndarray (float64):  25x9\n",
    "      min: -1.98 , max: 9.79\n",
    "  y: ndarray (float64):  25x1\n",
    "      min: -1.84 , max: 2.73\n",
    "  g: ndarray (float64):  25x1\n",
    "      min: -1.34 , max: 1.34\n",
    "  w: ndarray (float64):  25x9\n",
    "      min: -1.53 , max: 9.79"
   ]
  },
  {
   "cell_type": "raw",
   "metadata": {},
   "source": [
    "train\n",
    "  x: ndarray (float64):  25x9\n",
    "      min: -2.08 , max: 9.96\n",
    "  z: ndarray (float64):  25x9\n",
    "      min: -2.11 , max: 9.96\n",
    "  y: ndarray (float64):  25x1\n",
    "      min: -2.48 , max: 3.69\n",
    "  g: ndarray (float64):  25x1\n",
    "      min: -1.41 , max: 1.55\n",
    "  w: ndarray (float64):  25x9\n",
    "      min: -2.08 , max: 9.96"
   ]
  }
 ],
 "metadata": {
  "kernelspec": {
   "display_name": "Python 3",
   "language": "python",
   "name": "python3"
  },
  "language_info": {
   "codemirror_mode": {
    "name": "ipython",
    "version": 3
   },
   "file_extension": ".py",
   "mimetype": "text/x-python",
   "name": "python",
   "nbconvert_exporter": "python",
   "pygments_lexer": "ipython3",
   "version": "3.7.6"
  }
 },
 "nbformat": 4,
 "nbformat_minor": 2
}
